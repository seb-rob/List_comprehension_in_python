{
 "cells": [
  {
   "cell_type": "markdown",
   "id": "a67c921a",
   "metadata": {},
   "source": [
    "## List Comrehension\n",
    "###### square a list items and s another list"
   ]
  },
  {
   "cell_type": "code",
   "execution_count": 1,
   "id": "8bd4f6b1",
   "metadata": {},
   "outputs": [
    {
     "name": "stdout",
     "output_type": "stream",
     "text": [
      "[4, 9, 16, 25]\n"
     ]
    }
   ],
   "source": [
    "list_1 = [2, 3, 4, 5]\n",
    "new_list = [element ** 2 for element in list_1]\n",
    "print(new_list)"
   ]
  },
  {
   "cell_type": "markdown",
   "id": "75f3865d",
   "metadata": {},
   "source": [
    "###### Square only even elements"
   ]
  },
  {
   "cell_type": "code",
   "execution_count": 2,
   "id": "22a667dc",
   "metadata": {},
   "outputs": [
    {
     "name": "stdout",
     "output_type": "stream",
     "text": [
      "[4, 16, 36]\n"
     ]
    }
   ],
   "source": [
    "list_2 = [1, 2, 3, 4, 5, 6, 7]\n",
    "new_list_2 = [element ** 2 for element in list_2 if element % 2 == 0]\n",
    "print(new_list_2)"
   ]
  },
  {
   "cell_type": "markdown",
   "id": "db27b648",
   "metadata": {},
   "source": [
    "###### square only those elements which are divisible by two or three"
   ]
  },
  {
   "cell_type": "code",
   "execution_count": 3,
   "id": "ed0a4d1c",
   "metadata": {},
   "outputs": [
    {
     "name": "stdout",
     "output_type": "stream",
     "text": [
      "[4, 9, 16, 36, 64, 81]\n"
     ]
    }
   ],
   "source": [
    "list_3 = [1, 2, 3, 4, 5, 6, 7, 8, 9]\n",
    "new_list_3 = [ele ** 2 for ele in list_3 if ele % 2 == 0 or ele % 3 == 0]\n",
    "print(new_list_3)"
   ]
  },
  {
   "cell_type": "markdown",
   "id": "7391272f",
   "metadata": {},
   "source": [
    "###### square only those elements which are divisible by two and three"
   ]
  },
  {
   "cell_type": "code",
   "execution_count": 4,
   "id": "2a0b0e2b",
   "metadata": {},
   "outputs": [
    {
     "name": "stdout",
     "output_type": "stream",
     "text": [
      "[36]\n"
     ]
    }
   ],
   "source": [
    "list_4 = [1, 2, 3, 4, 5, 6, 7, 8, 9]\n",
    "new_list_4 = [ele ** 2 for ele in list_4 if ele % 2 == 0 and ele % 3 == 0]\n",
    "print(new_list_4)"
   ]
  },
  {
   "cell_type": "markdown",
   "id": "6e263ce7",
   "metadata": {},
   "source": [
    "###### print only those which are common in both list"
   ]
  },
  {
   "cell_type": "code",
   "execution_count": 5,
   "id": "dfc602c9",
   "metadata": {},
   "outputs": [
    {
     "name": "stdout",
     "output_type": "stream",
     "text": [
      "[2, 3, 4, 7]\n"
     ]
    }
   ],
   "source": [
    "list_5 = [1, 2, 3, 4, 5, 6, 7]\n",
    "list_6 = [2, 4, 3, 7, 8, 0]\n",
    "new_list_5 = [ele for ele in list_5 for ele_1 in list_6 if ele == ele_1]\n",
    "print(new_list_5)"
   ]
  },
  {
   "cell_type": "markdown",
   "id": "3a8e43c6",
   "metadata": {},
   "source": [
    "###### print only those which are common in both list (alternate)"
   ]
  },
  {
   "cell_type": "code",
   "execution_count": 7,
   "id": "8847f94b",
   "metadata": {},
   "outputs": [
    {
     "name": "stdout",
     "output_type": "stream",
     "text": [
      "[2, 3, 4, 7]\n"
     ]
    }
   ],
   "source": [
    "list_7 = [1, 2, 3, 4, 5, 6, 7]\n",
    "list_8 = [2, 4, 3, 7, 8, 0]\n",
    "new_list_7 = [ele for ele in list_7 if ele in list_8]\n",
    "print(new_list_7)"
   ]
  },
  {
   "cell_type": "markdown",
   "id": "f9eae7a8",
   "metadata": {},
   "source": [
    "###### print all elements in new list and if element is divisible by 2 then square it"
   ]
  },
  {
   "cell_type": "code",
   "execution_count": 8,
   "id": "fe19d509",
   "metadata": {},
   "outputs": [
    {
     "name": "stdout",
     "output_type": "stream",
     "text": [
      "[1, 4, 3, 16, 5, 36, 7, 64]\n"
     ]
    }
   ],
   "source": [
    "list_9 = [1, 2, 3, 4, 5, 6, 7, 8]\n",
    "new_list_9 = [ele ** 2 if ele % 2 == 0 else ele for ele in list_9]\n",
    "print(new_list_9)"
   ]
  },
  {
   "cell_type": "markdown",
   "id": "6044008f",
   "metadata": {},
   "source": [
    "###### create a list of charecter from given string"
   ]
  },
  {
   "cell_type": "code",
   "execution_count": 9,
   "id": "3c8a3039",
   "metadata": {},
   "outputs": [
    {
     "name": "stdout",
     "output_type": "stream",
     "text": [
      "['s', 'o', 'm', 'e', 't', 'h', 'i', 'n', 'g']\n"
     ]
    }
   ],
   "source": [
    "string_1 = \"something\"\n",
    "new_string_1 = [s for s in string_1]\n",
    "print(new_string_1)"
   ]
  },
  {
   "cell_type": "markdown",
   "id": "35d7314c",
   "metadata": {},
   "source": [
    "###### generate 2D list from a given list of strings (2D list is basically list in side list)"
   ]
  },
  {
   "cell_type": "code",
   "execution_count": 11,
   "id": "2f2ae05b",
   "metadata": {},
   "outputs": [
    {
     "name": "stdout",
     "output_type": "stream",
     "text": [
      "[['s', 'o', 'm', 'e', 't', 'h', 'i', 'n', 'g'], ['i', 's'], ['a', 'b', 'o', 'u', 't'], ['t', 'o'], ['h', 'a', 'p', 'p', 'e', 'n']]\n"
     ]
    }
   ],
   "source": [
    "string_2 = [\"something\", \"is\", \"about\", \"to\", \"happen\"]\n",
    "new_string_3 = [[first_chars for first_chars in first] for first in string_2]\n",
    "print(new_string_3)"
   ]
  },
  {
   "cell_type": "markdown",
   "id": "169545c5",
   "metadata": {},
   "source": [
    "###### take input of 2 dimensional list"
   ]
  },
  {
   "cell_type": "code",
   "execution_count": 14,
   "id": "a04ca70a",
   "metadata": {},
   "outputs": [
    {
     "name": "stdout",
     "output_type": "stream",
     "text": [
      "4 5\n",
      "2 3 4 5 6\n",
      "6 8 9 1 6\n",
      "1 2 3 4 5\n",
      "9 0 7 5 3\n",
      "[[2, 3, 4, 5, 6], [6, 8, 9, 1, 6], [1, 2, 3, 4, 5], [9, 0, 7, 5, 3]]\n"
     ]
    }
   ],
   "source": [
    "input_in_string = input().split() # gives me [\"n\", \"m\"]\n",
    "row_in_number, col_in_number = int(input_in_string[0]), int(input_in_string[1])\n",
    "new_2D_1 = [[int(j) for j in input().split()] for i in range(row_in_number)]\n",
    "print(new_2D_1)"
   ]
  },
  {
   "cell_type": "markdown",
   "id": "a237f1f9",
   "metadata": {},
   "source": [
    "###### test with string"
   ]
  },
  {
   "cell_type": "code",
   "execution_count": 15,
   "id": "621bd682",
   "metadata": {},
   "outputs": [
    {
     "name": "stdout",
     "output_type": "stream",
     "text": [
      "2 3\n",
      "robi sebas roy\n",
      "sebas robi roy\n",
      "[['robi', 'sebas', 'roy'], ['sebas', 'robi', 'roy']]\n"
     ]
    }
   ],
   "source": [
    "string = input().split()\n",
    "n, m = int(string[0]), int(string[1])\n",
    "new_2D_2 = [[j for j in input().split()] for i in range(n)]\n",
    "print(new_2D_2)"
   ]
  },
  {
   "cell_type": "code",
   "execution_count": 16,
   "id": "315a400b",
   "metadata": {},
   "outputs": [
    {
     "name": "stdout",
     "output_type": "stream",
     "text": [
      "3 3\n",
      "s e b\n",
      "r o b\n",
      "r oy\n",
      "[['s', 'e', 'b'], ['r', 'o', 'b'], ['r', 'oy']]\n"
     ]
    }
   ],
   "source": [
    "string = input().split()\n",
    "n, m = int(string[0]), int(string[0])\n",
    "new_2D_3 = [[j for j in input().split()] for i in range(n)]\n",
    "print(new_2D_3)"
   ]
  },
  {
   "cell_type": "markdown",
   "id": "67ae517e",
   "metadata": {},
   "source": [
    "###### jagged list input (jagged list is where columns of list may not be same)"
   ]
  },
  {
   "cell_type": "code",
   "execution_count": 17,
   "id": "84c9981a",
   "metadata": {},
   "outputs": [
    {
     "name": "stdout",
     "output_type": "stream",
     "text": [
      "4\n",
      "3 7 4 2 1 4 7\n",
      "2 6 8\n",
      "1 2\n",
      "7 9 4 2 6 9 3 2 1 0\n",
      "[['3', '7', '4', '2', '1', '4', '7'], ['2', '6', '8'], ['1', '2'], ['7', '9', '4', '2', '6', '9', '3', '2', '1', '0']]\n"
     ]
    }
   ],
   "source": [
    "row = int(input())\n",
    "new_2D_4 = [[j for j in input().split()] for i in range(row)]\n",
    "print(new_2D_4)"
   ]
  },
  {
   "cell_type": "markdown",
   "id": "16807cbd",
   "metadata": {},
   "source": [
    "###### jagged list input in string"
   ]
  },
  {
   "cell_type": "code",
   "execution_count": 18,
   "id": "9b60aed1",
   "metadata": {},
   "outputs": [
    {
     "name": "stdout",
     "output_type": "stream",
     "text": [
      "3\n",
      "robi00 robi01 robi02 robi03 robi04\n",
      "robi10 robi11 robi12 robi13 robi14 robi14 robi15\n",
      "robi rob ro\n",
      "[['robi00', 'robi01', 'robi02', 'robi03', 'robi04'], ['robi10', 'robi11', 'robi12', 'robi13', 'robi14', 'robi14', 'robi15'], ['robi', 'rob', 'ro']]\n"
     ]
    }
   ],
   "source": [
    "row_1 = int(input())\n",
    "new_2D_5 = [[j for j in input().split()] for i in range(row_1)]\n",
    "print(new_2D_5)"
   ]
  },
  {
   "cell_type": "markdown",
   "id": "69198546",
   "metadata": {},
   "source": [
    "###### if row, column is given in one line and second line represents all elements of 2D list? and asked to create 2D list from it"
   ]
  },
  {
   "cell_type": "code",
   "execution_count": 19,
   "id": "01dfe979",
   "metadata": {},
   "outputs": [
    {
     "name": "stdout",
     "output_type": "stream",
     "text": [
      "3 4\n",
      "1 2 3 4 5 6 7 8 9 10 11 12\n",
      "[[1, 2, 3, 4], [5, 6, 7, 8], [9, 10, 11, 12]]\n"
     ]
    }
   ],
   "source": [
    "string = input().split()\n",
    "n, m = int(string[0]), int(string[1])\n",
    "values = input().split()\n",
    "new_2D_6 = [[int(values[m*i+j]) for j in range(m)] for i in range(n)]\n",
    "print(new_2D_6)"
   ]
  },
  {
   "cell_type": "code",
   "execution_count": 21,
   "id": "97e6c69e",
   "metadata": {},
   "outputs": [
    {
     "name": "stdout",
     "output_type": "stream",
     "text": [
      "3 4\n",
      "1 2 3 4 5 6 7 8 9 10 12 13 14 15\n",
      "[[1, 2, 3, 4], [5, 6, 7, 8], [9, 10, 12, 13]]\n"
     ]
    }
   ],
   "source": [
    "string_7 = input().split()\n",
    "row, col = int(string[0]), int(string[1])\n",
    "values_1 = input().split() # even if you give extra values it will take how much row and column is assign\n",
    "new_2D_7 = [[int(values_1[col * i + j]) for j in range(col)] for i in range(row)]\n",
    "print(new_2D_7)"
   ]
  },
  {
   "cell_type": "markdown",
   "id": "c51064ef",
   "metadata": {},
   "source": [
    "###### now if row col and values are given in the same one line input and asked to create list from it"
   ]
  },
  {
   "cell_type": "code",
   "execution_count": 22,
   "id": "b98f8fa2",
   "metadata": {},
   "outputs": [
    {
     "name": "stdout",
     "output_type": "stream",
     "text": [
      "3 3 1 2 3 4 5 6 7 8 9 10 11 12 13\n",
      "[[1, 2, 3], [4, 5, 6], [7, 8, 9]]\n"
     ]
    }
   ],
   "source": [
    "string_8 = input().split()\n",
    "row, col = int(string_8[0]), int(string_8[1])\n",
    "values_2 = string_8[2:] #basically extracting all values starting from second index because first 2's are row and col\n",
    "new_2D_8 = [[int(values_2[col * i + j]) for j in range(col)] for i in range(row)]\n",
    "print(new_2D_8)"
   ]
  },
  {
   "cell_type": "markdown",
   "id": "6dc71228",
   "metadata": {},
   "source": [
    "###### if row, column is given in one line and second line represents all elements of 2D list? and asked to create 2D list from it (in case string)"
   ]
  },
  {
   "cell_type": "code",
   "execution_count": 24,
   "id": "69af2f24",
   "metadata": {},
   "outputs": [
    {
     "name": "stdout",
     "output_type": "stream",
     "text": [
      "3 4\n",
      "what would you like to take for snack please order something? Ok. do you have menu card?\n",
      "[['what', 'would', 'you', 'like'], ['to', 'take', 'for', 'snack'], ['please', 'order', 'something?', 'Ok.']]\n"
     ]
    }
   ],
   "source": [
    "string_9 = input().split()\n",
    "row, col = int(string_9[0]), int(string_9[1])\n",
    "values_3 = input().split()\n",
    "new_2D_9 = [[values_3[col * i + j] for j in range(col)] for i in range(row)]\n",
    "print(new_2D_9)"
   ]
  },
  {
   "cell_type": "markdown",
   "id": "a7875cb7",
   "metadata": {},
   "source": [
    "###### now if row col and values are given in the same one line input and asked to create list from it (in case of string)"
   ]
  },
  {
   "cell_type": "code",
   "execution_count": 25,
   "id": "8904205e",
   "metadata": {},
   "outputs": [
    {
     "name": "stdout",
     "output_type": "stream",
     "text": [
      "3 4 technology is awesome! world is running after this. this has potential to change the world\n",
      "[['technology', 'is', 'awesome!', 'world'], ['is', 'running', 'after', 'this.'], ['this', 'has', 'potential', 'to']]\n"
     ]
    }
   ],
   "source": [
    "string_10 = input().split()\n",
    "row, col = int(string_10[0]), int(string_10[1])\n",
    "values_10 = string_10[2:]\n",
    "new_2D_10 = [[values_10[col * i + j] for j in range(col)] for i in range(row)]\n",
    "print(new_2D_10)"
   ]
  },
  {
   "cell_type": "markdown",
   "id": "8aa25004",
   "metadata": {},
   "source": [
    "###### take 2D list inpiut and traverse eaach values and print"
   ]
  },
  {
   "cell_type": "code",
   "execution_count": 27,
   "id": "2ee26dc4",
   "metadata": {},
   "outputs": [
    {
     "name": "stdout",
     "output_type": "stream",
     "text": [
      "3 3 1 2 3 4 5 6 7 8 9\n",
      "1\n",
      "2\n",
      "3\n",
      "\n",
      "4\n",
      "5\n",
      "6\n",
      "\n",
      "7\n",
      "8\n",
      "9\n",
      "\n"
     ]
    }
   ],
   "source": [
    "string_11 = input().split()\n",
    "row, col = int(string_11[0]), int(string_11[1])\n",
    "values_11 = string_11[2:]\n",
    "new_2D_11 = [[int(values_11[col * i + j]) for j in range(col)] for i in range(row)]\n",
    "# traverse\n",
    "# we alredy know row and column\n",
    "for i in range(row):\n",
    "    for j in range(col):\n",
    "        print(new_2D_11[i][j])\n",
    "    print()"
   ]
  },
  {
   "cell_type": "markdown",
   "id": "02ac627c",
   "metadata": {},
   "source": [
    "###### take 2D list inpiut and traverse eaach values and print one row in one line and second in second..."
   ]
  },
  {
   "cell_type": "code",
   "execution_count": 30,
   "id": "d0ae7d69",
   "metadata": {},
   "outputs": [
    {
     "name": "stdout",
     "output_type": "stream",
     "text": [
      "3 4 1 2 3 4 5 6 7 8 9 10 11 12 13 14\n",
      "1 2 3 4 \n",
      "5 6 7 8 \n",
      "9 10 11 12 \n"
     ]
    }
   ],
   "source": [
    "string_12 = input().split()\n",
    "row, col = int(string_12[0]), int(string_12[1])\n",
    "values_12 = string_12[2:]\n",
    "new_2D_12 = [[int(values_12[col * i + j]) for j in range(col)] for i in range(row)]\n",
    "#traverse\n",
    "# row and col values are given\n",
    "for i in range(row):\n",
    "    for j in range(col):\n",
    "        print(new_2D_12[i][j], end=\" \")\n",
    "    print()\n",
    "    "
   ]
  },
  {
   "cell_type": "markdown",
   "id": "0505e1de",
   "metadata": {},
   "source": [
    "###### take 2D list input which is jagged list and travarse list, print valus"
   ]
  },
  {
   "cell_type": "code",
   "execution_count": 34,
   "id": "f2ec65c8",
   "metadata": {},
   "outputs": [
    {
     "name": "stdout",
     "output_type": "stream",
     "text": [
      "3\n",
      "2 3 4 5 6 7\n",
      "1 2 4\n",
      "1 5 8 2\n",
      "simple print:  [[2, 3, 4, 5, 6, 7], [1, 2, 4], [1, 5, 8, 2]]\n",
      "print after travarse: \n",
      "2 3 4 5 6 7 \n",
      "1 2 4 \n",
      "1 5 8 2 \n"
     ]
    }
   ],
   "source": [
    "row = int(input())\n",
    "new_2D_13 = [[int(j) for j in input().split()] for i in range(row)]\n",
    "print(\"simple print: \", new_2D_13)\n",
    "print(\"print after travarse: \")\n",
    "for i in new_2D_13:\n",
    "    for j in i:   # as we know, col of jagged list is now known\n",
    "        print(j, end=\" \")\n",
    "    print()"
   ]
  },
  {
   "cell_type": "markdown",
   "id": "9054d87c",
   "metadata": {},
   "source": [
    "###### take input in 2D list and print another list, where every element appending xy at the end of it"
   ]
  },
  {
   "cell_type": "code",
   "execution_count": 37,
   "id": "1f9c4877",
   "metadata": {},
   "outputs": [
    {
     "name": "stdout",
     "output_type": "stream",
     "text": [
      "3 3 1 2 3 4 5 6 7 8 9 10 11 12\n",
      "simple print:  [[1, 2, 3], [4, 5, 6], [7, 8, 9]]\n",
      "1xy 2xy 3\n",
      "4xy 5xy 6\n",
      "7xy 8xy 9\n"
     ]
    }
   ],
   "source": [
    "string_14 = input().split()\n",
    "row, col = int(string_14[0]), int(string_14[1])\n",
    "values_14 = string_14[2:]\n",
    "new_2D_14 = [[int(values_14[col * i + j]) for j in range(col)] for i in range(row)]\n",
    "print(\"simple print: \", new_2D_14)\n",
    "# travarse\n",
    "for i in new_2D_14:\n",
    "    new_1D_14 = \"xy \".join([str(elem) for elem in i])\n",
    "    print(new_1D_14)"
   ]
  },
  {
   "cell_type": "markdown",
   "id": "98769914",
   "metadata": {},
   "source": [
    "###### list is given print all the elements by column wise"
   ]
  },
  {
   "cell_type": "code",
   "execution_count": 38,
   "id": "a48606f2",
   "metadata": {},
   "outputs": [
    {
     "name": "stdout",
     "output_type": "stream",
     "text": [
      "1 5 9 2 6 10 3 7 11 4 8 12 "
     ]
    }
   ],
   "source": [
    "li=[[1,2,3,4],[5,6,7,8],[9,10,11,12]]\n",
    "for j in range(4):\n",
    "    for ele in li:\n",
    "        print(ele[j],end = \" \")"
   ]
  }
 ],
 "metadata": {
  "kernelspec": {
   "display_name": "Python 3",
   "language": "python",
   "name": "python3"
  },
  "language_info": {
   "codemirror_mode": {
    "name": "ipython",
    "version": 3
   },
   "file_extension": ".py",
   "mimetype": "text/x-python",
   "name": "python",
   "nbconvert_exporter": "python",
   "pygments_lexer": "ipython3",
   "version": "3.8.8"
  }
 },
 "nbformat": 4,
 "nbformat_minor": 5
}
